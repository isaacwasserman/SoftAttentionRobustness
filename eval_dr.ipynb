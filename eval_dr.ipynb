{
 "cells": [
  {
   "cell_type": "code",
   "execution_count": 11,
   "metadata": {},
   "outputs": [],
   "source": [
    "import tensorflow as tf\n",
    "import pickle\n",
    "import numpy as np\n",
    "\n",
    "import foolbox\n",
    "import eagerpy as ep\n",
    "from tqdm.notebook import tqdm"
   ]
  },
  {
   "cell_type": "code",
   "execution_count": 7,
   "metadata": {},
   "outputs": [
    {
     "name": "stdout",
     "output_type": "stream",
     "text": [
      "Found 35126 files belonging to 2 classes.\n",
      "Using 7025 files for validation.\n"
     ]
    }
   ],
   "source": [
    "batch_size= 16\n",
    "test_batches = tf.keras.utils.image_dataset_from_directory(\n",
    "    \"../dr/diabetic-retinopathy-2015-data-colored-resized/colored_images\",\n",
    "    labels='inferred',\n",
    "    label_mode='categorical',\n",
    "    color_mode='rgb',\n",
    "    batch_size=batch_size,\n",
    "    image_size=(224, 224),\n",
    "    shuffle=True,\n",
    "    seed=123,\n",
    "    validation_split=0.2,\n",
    "    subset=\"validation\"\n",
    ")\n",
    "test_batches = test_batches.map(lambda x,y: (tf.keras.applications.resnet50.preprocess_input(x),y))"
   ]
  },
  {
   "cell_type": "code",
   "execution_count": 8,
   "metadata": {},
   "outputs": [],
   "source": [
    "# with open(\"../dr/DR_model.pkl\",\"rb\") as file:\n",
    "#     model_without_attention = pickle.load(file)\n",
    "with open(\"../dr/DR+SA_model.pkl\",\"rb\") as file:\n",
    "    model_with_attention = pickle.load(file)"
   ]
  },
  {
   "cell_type": "code",
   "execution_count": 18,
   "metadata": {},
   "outputs": [
    {
     "name": "stdout",
     "output_type": "stream",
     "text": [
      "unperturbed acc: 0.817508896797153\n"
     ]
    }
   ],
   "source": [
    "batch_accs = []\n",
    "batch_weights = []\n",
    "for i,(x,y) in zip(range(len(test_batches)),test_batches):\n",
    "    # if i == 0:\n",
    "    #     print(type(x),y)\n",
    "    acc = fb.utils.accuracy(fmodel, x, tf.argmax(y, axis=1))\n",
    "    batch_accs.append(acc)\n",
    "    batch_weights.append(y.shape[0])\n",
    "s1 = 0\n",
    "s2 = sum(batch_weights)\n",
    "for i in range(len(batch_accs)):\n",
    "    s1 += batch_accs[i] * batch_weights[i]\n",
    "print(\"unperturbed acc:\",s1/s2)\n"
   ]
  },
  {
   "cell_type": "code",
   "execution_count": 9,
   "metadata": {},
   "outputs": [
    {
     "name": "stderr",
     "output_type": "stream",
     "text": [
      "2022-06-28 11:43:29.345599: I tensorflow/stream_executor/cuda/cuda_gpu_executor.cc:975] successful NUMA node read from SysFS had negative value (-1), but there must be at least one NUMA node, so returning NUMA node zero\n",
      "2022-06-28 11:43:29.345985: I tensorflow/stream_executor/cuda/cuda_gpu_executor.cc:975] successful NUMA node read from SysFS had negative value (-1), but there must be at least one NUMA node, so returning NUMA node zero\n",
      "2022-06-28 11:43:29.346171: I tensorflow/stream_executor/cuda/cuda_gpu_executor.cc:975] successful NUMA node read from SysFS had negative value (-1), but there must be at least one NUMA node, so returning NUMA node zero\n",
      "2022-06-28 11:43:29.346392: I tensorflow/stream_executor/cuda/cuda_gpu_executor.cc:975] successful NUMA node read from SysFS had negative value (-1), but there must be at least one NUMA node, so returning NUMA node zero\n",
      "2022-06-28 11:43:29.346557: I tensorflow/stream_executor/cuda/cuda_gpu_executor.cc:975] successful NUMA node read from SysFS had negative value (-1), but there must be at least one NUMA node, so returning NUMA node zero\n",
      "2022-06-28 11:43:29.346674: I tensorflow/core/common_runtime/gpu/gpu_device.cc:1532] Created device /device:GPU:0 with 7118 MB memory:  -> device: 0, name: NVIDIA GeForce GTX 1080, pci bus id: 0000:01:00.0, compute capability: 6.1\n"
     ]
    }
   ],
   "source": [
    "model = model_with_attention\n",
    "preprocessing = dict()\n",
    "bounds = (-123.69, 151.062)\n",
    "# preprocessing = dict(flip_axis=-1, mean=[103.939, 116.779, 123.68])\n",
    "# bounds = (0, 255)\n",
    "fmodel = foolbox.TensorFlowModel(model, bounds=bounds, preprocessing=preprocessing)"
   ]
  },
  {
   "cell_type": "code",
   "execution_count": 14,
   "metadata": {},
   "outputs": [
    {
     "name": "stdout",
     "output_type": "stream",
     "text": [
      "epsilon = 0.00125\n"
     ]
    },
    {
     "data": {
      "application/vnd.jupyter.widget-view+json": {
       "model_id": "e9cd1b68b1154f05854c56ebddb17a25",
       "version_major": 2,
       "version_minor": 0
      },
      "text/plain": [
       "  0%|          | 0/440 [00:00<?, ?it/s]"
      ]
     },
     "metadata": {},
     "output_type": "display_data"
    },
    {
     "name": "stdout",
     "output_type": "stream",
     "text": [
      "perturbed acc: 0.8159430604982206\n",
      "epsilon = 0.0025\n"
     ]
    },
    {
     "data": {
      "application/vnd.jupyter.widget-view+json": {
       "model_id": "3c61e238c86a48a4a32b3c8c0c3fa00f",
       "version_major": 2,
       "version_minor": 0
      },
      "text/plain": [
       "  0%|          | 0/440 [00:00<?, ?it/s]"
      ]
     },
     "metadata": {},
     "output_type": "display_data"
    },
    {
     "name": "stdout",
     "output_type": "stream",
     "text": [
      "perturbed acc: 0.8152313167259786\n",
      "epsilon = 0.005\n"
     ]
    },
    {
     "data": {
      "application/vnd.jupyter.widget-view+json": {
       "model_id": "000809357a31471b9cc343525afb9c05",
       "version_major": 2,
       "version_minor": 0
      },
      "text/plain": [
       "  0%|          | 0/440 [00:00<?, ?it/s]"
      ]
     },
     "metadata": {},
     "output_type": "display_data"
    },
    {
     "name": "stdout",
     "output_type": "stream",
     "text": [
      "perturbed acc: 0.8132384341637011\n",
      "epsilon = 0.01\n"
     ]
    },
    {
     "data": {
      "application/vnd.jupyter.widget-view+json": {
       "model_id": "67be8541c1ef43a6bb6112db28bae573",
       "version_major": 2,
       "version_minor": 0
      },
      "text/plain": [
       "  0%|          | 0/440 [00:00<?, ?it/s]"
      ]
     },
     "metadata": {},
     "output_type": "display_data"
    },
    {
     "name": "stdout",
     "output_type": "stream",
     "text": [
      "perturbed acc: 0.8083985765124555\n",
      "epsilon = 0.02\n"
     ]
    },
    {
     "data": {
      "application/vnd.jupyter.widget-view+json": {
       "model_id": "f5c3458617ee4df29b4c3dd033e1f54c",
       "version_major": 2,
       "version_minor": 0
      },
      "text/plain": [
       "  0%|          | 0/440 [00:00<?, ?it/s]"
      ]
     },
     "metadata": {},
     "output_type": "display_data"
    },
    {
     "name": "stdout",
     "output_type": "stream",
     "text": [
      "perturbed acc: 0.7998576512455516\n",
      "epsilon = 0.04\n"
     ]
    },
    {
     "data": {
      "application/vnd.jupyter.widget-view+json": {
       "model_id": "e70e7fd4ef5d41a5b6a5576fc33e598d",
       "version_major": 2,
       "version_minor": 0
      },
      "text/plain": [
       "  0%|          | 0/440 [00:00<?, ?it/s]"
      ]
     },
     "metadata": {},
     "output_type": "display_data"
    },
    {
     "name": "stdout",
     "output_type": "stream",
     "text": [
      "perturbed acc: 0.7802135231316726\n",
      "epsilon = 0.08\n"
     ]
    },
    {
     "data": {
      "application/vnd.jupyter.widget-view+json": {
       "model_id": "99f497741012419b895218e751a255b2",
       "version_major": 2,
       "version_minor": 0
      },
      "text/plain": [
       "  0%|          | 0/440 [00:00<?, ?it/s]"
      ]
     },
     "metadata": {},
     "output_type": "display_data"
    },
    {
     "name": "stdout",
     "output_type": "stream",
     "text": [
      "perturbed acc: 0.7330960854092526\n",
      "epsilon = 0.16\n"
     ]
    },
    {
     "data": {
      "application/vnd.jupyter.widget-view+json": {
       "model_id": "f5992b3f8aba47d9bd674ae541b9e755",
       "version_major": 2,
       "version_minor": 0
      },
      "text/plain": [
       "  0%|          | 0/440 [00:00<?, ?it/s]"
      ]
     },
     "metadata": {},
     "output_type": "display_data"
    },
    {
     "name": "stdout",
     "output_type": "stream",
     "text": [
      "perturbed acc: 0.5994306049822065\n",
      "epsilon = 0.32\n"
     ]
    },
    {
     "data": {
      "application/vnd.jupyter.widget-view+json": {
       "model_id": "270c73f727db4d8d8db853c38083e572",
       "version_major": 2,
       "version_minor": 0
      },
      "text/plain": [
       "  0%|          | 0/440 [00:00<?, ?it/s]"
      ]
     },
     "metadata": {},
     "output_type": "display_data"
    },
    {
     "name": "stdout",
     "output_type": "stream",
     "text": [
      "perturbed acc: 0.28740213523131675\n"
     ]
    }
   ],
   "source": [
    "attack = foolbox.attacks.LinfAdamProjectedGradientDescentAttack()\n",
    "for epsilon in [0.00125, 0.0025, 0.005, 0.01, 0.02, 0.04, 0.08, 0.16, 0.32]:\n",
    "    adv_batches = []\n",
    "    labels = []\n",
    "    print(\"epsilon =\", epsilon)\n",
    "    for i,(x,y) in tqdm(zip(range(len(test_batches)),test_batches), total=len(test_batches)):\n",
    "        raw, clipped, is_adv = attack(fmodel, tf.constant(x), tf.argmax(y, axis=1), epsilons=[epsilon])\n",
    "        adv_batches.append(clipped[0])\n",
    "        labels.append(tf.argmax(y, axis=1))\n",
    "\n",
    "    batch_accs = []\n",
    "    batch_weights = []\n",
    "    for (batch,label) in zip(adv_batches, labels):\n",
    "        x = np.array(batch)\n",
    "        y = np.array(label)\n",
    "        acc = foolbox.utils.accuracy(fmodel, x, y)\n",
    "        batch_accs.append(acc)\n",
    "        batch_weights.append(y.shape[0])\n",
    "    s1 = 0\n",
    "    s2 = sum(batch_weights)\n",
    "    for i in range(len(batch_accs)):\n",
    "        s1 += batch_accs[i] * batch_weights[i]\n",
    "    print(\"perturbed acc:\",s1/s2)\n"
   ]
  },
  {
   "cell_type": "markdown",
   "metadata": {},
   "source": [
    "Using `FGSM()`\n",
    "| Model/Epsilon     | 0                   | 0.00125             | 0.0025              | 0.005               | 0.01                | 0.02                | 0.04                |\n",
    "| ----------------- | ------------------- | ------------------- | ------------------- | ------------------- | ------------------- | ------------------- | ------------------- |\n",
    "| Without Attention | 0.832170818505338   | 0.8270462633451957  | 0.8241992882562278  | 0.8166548042704627  | 0.8024199288256227  | 0.7695373665480427  | 0.6908185053380783  |\n",
    "| With Attention    | 0.817508896797153   | 0.8158007117437722  | 0.8146619217081851  | 0.8125266903914591  | 0.8075444839857652  | 0.7972953736654804  | 0.776085409252669   |\n",
    "\n",
    "Using `LinfAdamProjectedGradientDescentAttack()`\n",
    "| Model/Epsilon     | 0                   | 0.00125             | 0.0025              | 0.005               | 0.01                | 0.02                | 0.04                | 0.08                | 0.16                | 0.32                |\n",
    "| ----------------- | ------------------- | ------------------- | ------------------- | ------------------- | ------------------- | ------------------- | ------------------- | ------------------- | ------------------- | ------------------- |\n",
    "| Without Attention | 0.832170818505338   | 0.8277580071174377  | 0.8251957295373665  | 0.8186476868327403  | 0.805693950177936   | 0.7779359430604982  | 0.7051957295373665  | 0.5056227758007118  | 0.17480427046263344 | 0.01395017793594306 |\n",
    "| With Attention    | 0.817508896797153   | 0.8159430604982206  | 0.8152313167259786  | 0.8132384341637011  | 0.8083985765124555  | 0.7998576512455516  | 0.7802135231316726 | 0.7330960854092526 | 0.5994306049822065 | 0.28740213523131675 |\n"
   ]
  },
  {
   "cell_type": "markdown",
   "metadata": {},
   "source": []
  }
 ],
 "metadata": {
  "kernelspec": {
   "display_name": "Python 3.9.12 ('tf')",
   "language": "python",
   "name": "python3"
  },
  "language_info": {
   "codemirror_mode": {
    "name": "ipython",
    "version": 3
   },
   "file_extension": ".py",
   "mimetype": "text/x-python",
   "name": "python",
   "nbconvert_exporter": "python",
   "pygments_lexer": "ipython3",
   "version": "3.9.12"
  },
  "orig_nbformat": 4,
  "vscode": {
   "interpreter": {
    "hash": "fc4865d42a7b96bf49940e03a1d33c3e32ae20f8de81d71d36a73e19abe31532"
   }
  }
 },
 "nbformat": 4,
 "nbformat_minor": 2
}
